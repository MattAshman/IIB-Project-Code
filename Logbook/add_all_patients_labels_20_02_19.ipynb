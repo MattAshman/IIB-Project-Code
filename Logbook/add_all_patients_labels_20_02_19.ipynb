{
 "cells": [
  {
   "cell_type": "markdown",
   "metadata": {},
   "source": [
    "## 20/02/19\n",
    "\n",
    "- Adding fractionation labels to each segment."
   ]
  },
  {
   "cell_type": "code",
   "execution_count": 3,
   "metadata": {},
   "outputs": [],
   "source": [
    "import numpy as np\n",
    "import pandas as pd\n",
    "import pdb\n",
    "\n",
    "X = pd.read_pickle('/Users/matthewashman/github/MasterProject2018/Data/X_all_compact.pkl')\n",
    "with open('/Users/matthewashman/github/MasterProject2018/non_af_labels.csv', 'r') as file_in:\n",
    "    labels = pd.read_csv(file_in)"
   ]
  },
  {
   "cell_type": "code",
   "execution_count": 4,
   "metadata": {},
   "outputs": [],
   "source": [
    "labels = labels.dropna(how='all')\n",
    "X['CS1-2 Label'] = np.nan; X['CS3-4 Label'] = np.nan; X['CS5-6 Label'] = np.nan\n",
    "X['CS1-2 Label 2'] = np.nan; X['CS3-4 Label 2'] = np.nan; X['CS5-6 Label 2'] = np.nan\n",
    "for idx, row in labels.iterrows():\n",
    "    patient = row['Patient']\n",
    "    coupling_interval = str(int(row['Coupling Interval']))\n",
    "    patient_num = ''.join(filter(str.isdigit, patient))\n",
    "    patient_type = ''.join(filter(str.isalpha, patient))\n",
    "    patient_type = patient_type.lower()\n",
    "    # Add 0/1 labels to dataframe\n",
    "    X.loc[(X['Type']==patient_type) & (X['Patient']==patient_num) & (X['Coupling Interval']==coupling_interval) & (X['S1/S2']=='S2'), 'CS1-2 Label'] = row['CS1-2']\n",
    "    X.loc[(X['Type']==patient_type) & (X['Patient']==patient_num) & (X['Coupling Interval']==coupling_interval) & (X['S1/S2']=='S2'), 'CS3-4 Label'] = row['CS3-4']\n",
    "    X.loc[(X['Type']==patient_type) & (X['Patient']==patient_num) & (X['Coupling Interval']==coupling_interval) & (X['S1/S2']=='S2'), 'CS5-6 Label'] = row['CS5-6']\n",
    "    # Add 0/1/2 labels to dataframe\n",
    "    X.loc[(X['Type']==patient_type) & (X['Patient']==patient_num) & (X['Coupling Interval']==coupling_interval) & (X['S1/S2']=='S2'), 'CS1-2 Label 2'] = row[\"CS1-2'\"]\n",
    "    X.loc[(X['Type']==patient_type) & (X['Patient']==patient_num) & (X['Coupling Interval']==coupling_interval) & (X['S1/S2']=='S2'), 'CS3-4 Label 2'] = row[\"CS3-4'\"]\n",
    "    X.loc[(X['Type']==patient_type) & (X['Patient']==patient_num) & (X['Coupling Interval']==coupling_interval) & (X['S1/S2']=='S2'), 'CS5-6 Label 2'] = row[\"CS5-6'\"]\n",
    "    \n",
    "X.to_pickle('/Users/matthewashman/github/MasterProject2018/Data/X_all_labels.pkl')"
   ]
  },
  {
   "cell_type": "code",
   "execution_count": null,
   "metadata": {},
   "outputs": [],
   "source": []
  }
 ],
 "metadata": {
  "kernelspec": {
   "display_name": "Python 3",
   "language": "python",
   "name": "python3"
  },
  "language_info": {
   "codemirror_mode": {
    "name": "ipython",
    "version": 3
   },
   "file_extension": ".py",
   "mimetype": "text/x-python",
   "name": "python",
   "nbconvert_exporter": "python",
   "pygments_lexer": "ipython3",
   "version": "3.6.4"
  }
 },
 "nbformat": 4,
 "nbformat_minor": 2
}
